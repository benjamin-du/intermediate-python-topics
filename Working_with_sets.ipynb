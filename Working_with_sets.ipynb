{
  "nbformat": 4,
  "nbformat_minor": 0,
  "metadata": {
    "colab": {
      "name": "Working with sets.ipynb",
      "provenance": [],
      "collapsed_sections": [],
      "authorship_tag": "ABX9TyP2ui0KmTrFJ+UDww5Ron9o",
      "include_colab_link": true
    },
    "kernelspec": {
      "name": "python3",
      "display_name": "Python 3"
    },
    "language_info": {
      "name": "python"
    }
  },
  "cells": [
    {
      "cell_type": "markdown",
      "metadata": {
        "id": "view-in-github",
        "colab_type": "text"
      },
      "source": [
        "<a href=\"https://colab.research.google.com/github/benjamin-du/intermediate-python-topics/blob/main/Working_with_sets.ipynb\" target=\"_parent\"><img src=\"https://colab.research.google.com/assets/colab-badge.svg\" alt=\"Open In Colab\"/></a>"
      ]
    },
    {
      "cell_type": "code",
      "source": [
        "!pip install faker >> /dev/null"
      ],
      "metadata": {
        "id": "nsVLGCUh7I0n"
      },
      "execution_count": 1,
      "outputs": []
    },
    {
      "cell_type": "code",
      "source": [
        "%%html \n",
        "<p style=\"text-align: center; font-size: 56px\"> SETS </p>"
      ],
      "metadata": {
        "id": "-4LBoaH4XcPM",
        "colab": {
          "base_uri": "https://localhost:8080/",
          "height": 98
        },
        "outputId": "308d7c8f-4f7a-440a-f932-5e19bfa625d6"
      },
      "execution_count": 2,
      "outputs": [
        {
          "output_type": "display_data",
          "data": {
            "text/html": [
              "<p style=\"text-align: center; font-size: 56px\"> SETS </p>"
            ],
            "text/plain": [
              "<IPython.core.display.HTML object>"
            ]
          },
          "metadata": {}
        }
      ]
    },
    {
      "cell_type": "markdown",
      "source": [
        "\n",
        "\n",
        "-------------------"
      ],
      "metadata": {
        "id": "G5YtKHD3Zm0Y"
      }
    },
    {
      "cell_type": "code",
      "source": [
        "from faker import Faker\n",
        "import pandas as pd"
      ],
      "metadata": {
        "id": "6yTzVPQe7UtM"
      },
      "execution_count": 3,
      "outputs": []
    },
    {
      "cell_type": "code",
      "source": [
        "fake = Faker()"
      ],
      "metadata": {
        "id": "aDXuRory7cfW"
      },
      "execution_count": 4,
      "outputs": []
    },
    {
      "cell_type": "code",
      "source": [
        "id_customers_database = {\"ID_customers_database\":[fake.uuid4() for i in range(10)]}"
      ],
      "metadata": {
        "id": "Imn3_zX6-Y0S"
      },
      "execution_count": 5,
      "outputs": []
    },
    {
      "cell_type": "code",
      "source": [
        "id_reimbursement_database = {\"ID_reimbursement_database\": id_customers_database[\"ID_customers_database\"][:5] + [fake.uuid4() for i in range(5)]}"
      ],
      "metadata": {
        "id": "hoDeVVrxCmK4"
      },
      "execution_count": 6,
      "outputs": []
    },
    {
      "cell_type": "code",
      "source": [
        "id_customers_database"
      ],
      "metadata": {
        "colab": {
          "base_uri": "https://localhost:8080/"
        },
        "id": "j2sH48gGC2u_",
        "outputId": "53f1216e-3662-4a77-b643-1d97cbce8968"
      },
      "execution_count": 7,
      "outputs": [
        {
          "output_type": "execute_result",
          "data": {
            "text/plain": [
              "{'ID_customers_database': ['ec99c7bc-c780-4126-b95b-5c319caab526',\n",
              "  '1f76ce85-9485-4046-8187-b626345dd3f8',\n",
              "  '83f09866-0de5-46c6-b12b-bf8f258be0a4',\n",
              "  '59fc9344-3532-4984-aaa6-8755ddfc8613',\n",
              "  '63c1a579-4320-4b8d-a527-82c65d2fab78',\n",
              "  '5a53b7f5-0309-47b8-aa51-c0aeb4cc058c',\n",
              "  '0d254945-4ad6-4abd-bc69-ee9cb66807bf',\n",
              "  '8225c5f4-48e2-47ff-9279-ec0224a0e4a5',\n",
              "  'e8c7009b-9f4a-44c1-a2fe-86cdbe7bb35e',\n",
              "  'c30d7f4e-1e7b-43d1-82e2-768fd8143040']}"
            ]
          },
          "metadata": {},
          "execution_count": 7
        }
      ]
    },
    {
      "cell_type": "code",
      "source": [
        "id_reimbursement_database"
      ],
      "metadata": {
        "colab": {
          "base_uri": "https://localhost:8080/"
        },
        "id": "pQD73ik9C6mI",
        "outputId": "2b30bf20-87aa-43d0-f53d-e27e87e08151"
      },
      "execution_count": 8,
      "outputs": [
        {
          "output_type": "execute_result",
          "data": {
            "text/plain": [
              "{'ID_reimbursement_database': ['ec99c7bc-c780-4126-b95b-5c319caab526',\n",
              "  '1f76ce85-9485-4046-8187-b626345dd3f8',\n",
              "  '83f09866-0de5-46c6-b12b-bf8f258be0a4',\n",
              "  '59fc9344-3532-4984-aaa6-8755ddfc8613',\n",
              "  '63c1a579-4320-4b8d-a527-82c65d2fab78',\n",
              "  'da745b1b-7d11-4076-9f6d-985c65d3ce8f',\n",
              "  '850f65d5-cccb-45c3-9cc0-859ea07a3982',\n",
              "  '0ca1d38c-4f56-4510-bfd4-94536bfcf2d9',\n",
              "  'aac86721-c1cc-49a4-b403-29b188358b65',\n",
              "  '6b224c1e-5c19-41ea-b80c-87c34ebb73b4']}"
            ]
          },
          "metadata": {},
          "execution_count": 8
        }
      ]
    },
    {
      "cell_type": "markdown",
      "source": [
        "# Working with sets"
      ],
      "metadata": {
        "id": "efrtcvuVMC7f"
      }
    },
    {
      "cell_type": "markdown",
      "source": [
        "## Declaring a set"
      ],
      "metadata": {
        "id": "WAJFNbwUXSL6"
      }
    },
    {
      "cell_type": "markdown",
      "source": [
        "You can declare a set just like this: "
      ],
      "metadata": {
        "id": "fRt7QCrIXZY5"
      }
    },
    {
      "cell_type": "code",
      "source": [
        "my_set = {\"item1\", \"item2\", \"item3\", \"item4\", \"item5\" }\n",
        "my_set"
      ],
      "metadata": {
        "colab": {
          "base_uri": "https://localhost:8080/"
        },
        "id": "tG-7mvd4Tj6N",
        "outputId": "07a784e8-f463-4bcc-8bf5-a6949d4e9b17"
      },
      "execution_count": 9,
      "outputs": [
        {
          "output_type": "execute_result",
          "data": {
            "text/plain": [
              "{'item1', 'item2', 'item3', 'item4', 'item5'}"
            ]
          },
          "metadata": {},
          "execution_count": 9
        }
      ]
    },
    {
      "cell_type": "markdown",
      "source": [
        "Another option is to insert another python object into the set() function: "
      ],
      "metadata": {
        "id": "OWCLnt4LcvNx"
      }
    },
    {
      "cell_type": "code",
      "source": [
        "my_list = ['apple', 'date', 'citrus', 'banana', 'apple']\n",
        "my_second_set = set(my_list)\n",
        "my_second_set"
      ],
      "metadata": {
        "colab": {
          "base_uri": "https://localhost:8080/"
        },
        "id": "U88xCKrVTj1q",
        "outputId": "4f64bdcf-e1b9-41d9-f3d7-8019d79dce81"
      },
      "execution_count": 10,
      "outputs": [
        {
          "output_type": "execute_result",
          "data": {
            "text/plain": [
              "{'apple', 'banana', 'citrus', 'date'}"
            ]
          },
          "metadata": {},
          "execution_count": 10
        }
      ]
    },
    {
      "cell_type": "code",
      "source": [
        "type(my_set)\n",
        "type(my_second_set)"
      ],
      "metadata": {
        "colab": {
          "base_uri": "https://localhost:8080/"
        },
        "id": "f-h-WpJnXYyw",
        "outputId": "fda4cd98-575c-4490-ad88-e626612725d4"
      },
      "execution_count": 11,
      "outputs": [
        {
          "output_type": "execute_result",
          "data": {
            "text/plain": [
              "set"
            ]
          },
          "metadata": {},
          "execution_count": 11
        }
      ]
    },
    {
      "cell_type": "markdown",
      "source": [
        "### You need an empty set ? **Be careful:**"
      ],
      "metadata": {
        "id": "3G1RUfnTzpmK"
      }
    },
    {
      "cell_type": "code",
      "source": [
        "# empty brackets create a dictionnary, not a set:\n",
        "print(type({}))\n",
        "# if you want an empty set, use the function set()\n",
        "print(type(set()))"
      ],
      "metadata": {
        "colab": {
          "base_uri": "https://localhost:8080/"
        },
        "id": "dMTAV626zt-M",
        "outputId": "4b9610d8-9e23-4695-f887-ae548d3e233a"
      },
      "execution_count": 12,
      "outputs": [
        {
          "output_type": "stream",
          "name": "stdout",
          "text": [
            "<class 'dict'>\n",
            "<class 'set'>\n"
          ]
        }
      ]
    },
    {
      "cell_type": "markdown",
      "source": [
        "## Key feature 1: no duplicates"
      ],
      "metadata": {
        "id": "KOtnPWdvXVHd"
      }
    },
    {
      "cell_type": "markdown",
      "source": [
        "You may have noticed that the second set contains only four elements:"
      ],
      "metadata": {
        "id": "BY-Vp2FmgBjW"
      }
    },
    {
      "cell_type": "code",
      "source": [
        "my_second_set"
      ],
      "metadata": {
        "colab": {
          "base_uri": "https://localhost:8080/"
        },
        "id": "JoS0zF5fTjv6",
        "outputId": "92ac37ab-e728-45f4-9ddd-d8b0761be751"
      },
      "execution_count": 13,
      "outputs": [
        {
          "output_type": "execute_result",
          "data": {
            "text/plain": [
              "{'apple', 'banana', 'citrus', 'date'}"
            ]
          },
          "metadata": {},
          "execution_count": 13
        }
      ]
    },
    {
      "cell_type": "markdown",
      "source": [
        "That's because sets do not contain duplicates elements."
      ],
      "metadata": {
        "id": "3TfwgDvaMC3b"
      }
    },
    {
      "cell_type": "markdown",
      "source": [
        "This is in my opinion their most important feature. I often use sets when I want to know quickly how many unique values a list contains: "
      ],
      "metadata": {
        "id": "yMI9PR3tqRi8"
      }
    },
    {
      "cell_type": "code",
      "source": [
        "len(my_list)"
      ],
      "metadata": {
        "colab": {
          "base_uri": "https://localhost:8080/"
        },
        "id": "8GrUGUx4qg4o",
        "outputId": "b2a84550-f47e-4506-cfa1-f0c6c3d6920c"
      },
      "execution_count": 14,
      "outputs": [
        {
          "output_type": "execute_result",
          "data": {
            "text/plain": [
              "5"
            ]
          },
          "metadata": {},
          "execution_count": 14
        }
      ]
    },
    {
      "cell_type": "code",
      "source": [
        "len(set(my_list))"
      ],
      "metadata": {
        "colab": {
          "base_uri": "https://localhost:8080/"
        },
        "id": "5nWaR-hcqjCi",
        "outputId": "a082da08-fb30-4fca-a07d-565b909ecb46"
      },
      "execution_count": 15,
      "outputs": [
        {
          "output_type": "execute_result",
          "data": {
            "text/plain": [
              "4"
            ]
          },
          "metadata": {},
          "execution_count": 15
        }
      ]
    },
    {
      "cell_type": "markdown",
      "source": [
        "## Key feature 2: unordered"
      ],
      "metadata": {
        "id": "NxiAobwIbqtN"
      }
    },
    {
      "cell_type": "markdown",
      "source": [
        "Another thing you may have noticed in the exemples above is that my_second_set is printed in alphabetical order:"
      ],
      "metadata": {
        "id": "hGH6FCDvqwwS"
      }
    },
    {
      "cell_type": "code",
      "source": [
        "# date comes before citrus, citrus comes before banana, etc\n",
        "print(my_list)"
      ],
      "metadata": {
        "colab": {
          "base_uri": "https://localhost:8080/"
        },
        "id": "2HLsE05Yq-lN",
        "outputId": "b0f6b854-d076-4ecb-fb19-ccf471f7c2e1"
      },
      "execution_count": 16,
      "outputs": [
        {
          "output_type": "stream",
          "name": "stdout",
          "text": [
            "['apple', 'date', 'citrus', 'banana', 'apple']\n"
          ]
        }
      ]
    },
    {
      "cell_type": "code",
      "source": [
        "# this was reordered for printing:\n",
        "set(my_list)"
      ],
      "metadata": {
        "colab": {
          "base_uri": "https://localhost:8080/"
        },
        "id": "c6LcMPa8q-gS",
        "outputId": "5af6ed31-2b32-49d0-910c-79b65efe7b84"
      },
      "execution_count": 17,
      "outputs": [
        {
          "output_type": "execute_result",
          "data": {
            "text/plain": [
              "{'apple', 'banana', 'citrus', 'date'}"
            ]
          },
          "metadata": {},
          "execution_count": 17
        }
      ]
    },
    {
      "cell_type": "markdown",
      "source": [
        "Wait wait wait !! Your title says: \"dicts are unordered\". Now you tell me the set has ordered the list... What's going on ?\n",
        "\n",
        "Well, that's because we are in a jupyter notebook. And they seem to order the variable for you (check <a href=\"https://stackoverflow.com/questions/62360830/why-does-python-print-a-set-of-numbers-as-ordered\">this</a>)\n",
        "\n",
        "But you can't trust your dictionnary to be sorted:"
      ],
      "metadata": {
        "id": "pwAEbsYGr-Ih"
      }
    },
    {
      "cell_type": "code",
      "source": [
        "# \"great, python dict sorts my values for me!!!!\"\n",
        "print(list(set([6,3,7])))\n",
        "\n",
        "# \"Hmmm, not so much.....\"\n",
        "print(list(set([6,3,8])))\n",
        "\n",
        "# \"In fact, really not!\"\n",
        "print(set(\"Hello!\"))"
      ],
      "metadata": {
        "colab": {
          "base_uri": "https://localhost:8080/"
        },
        "id": "eahY6jCNr-Ds",
        "outputId": "d27a1400-f858-4cd9-a03d-b22e82611ef7"
      },
      "execution_count": 18,
      "outputs": [
        {
          "output_type": "stream",
          "name": "stdout",
          "text": [
            "[3, 6, 7]\n",
            "[8, 3, 6]\n",
            "{'o', '!', 'H', 'l', 'e'}\n"
          ]
        }
      ]
    },
    {
      "cell_type": "markdown",
      "source": [
        "All in all, we've seen that: \n",
        "- Your dictionnary doesn't care in which order you gave it your values\n",
        "- The way it gives them back is unpredictable\n",
        "\n",
        "In short, dictionnaries are _unordered_. I don't think there is a use for this feature, it is just something you should be aware of :) "
      ],
      "metadata": {
        "id": "wpeR4JPhvqYi"
      }
    },
    {
      "cell_type": "markdown",
      "source": [
        "## Key feature 3: mutable"
      ],
      "metadata": {
        "id": "79_RN5LbbqIU"
      }
    },
    {
      "cell_type": "markdown",
      "source": [
        "Mutable means: \"I can change it later\". In our case, we can add and remove items to our set no problem: "
      ],
      "metadata": {
        "id": "usl7uTB2vp9Y"
      }
    },
    {
      "cell_type": "code",
      "source": [
        "# remember to declare an empty set using set():\n",
        "my_set = set()\n",
        "my_set.add(\"A\")\n",
        "print(my_set)\n",
        "my_set.remove(\"A\")\n",
        "print(my_set)"
      ],
      "metadata": {
        "id": "i2GnJciUeAf5",
        "colab": {
          "base_uri": "https://localhost:8080/"
        },
        "outputId": "a98eebe8-fcd4-4637-8bde-480f99b12534"
      },
      "execution_count": 19,
      "outputs": [
        {
          "output_type": "stream",
          "name": "stdout",
          "text": [
            "{'A'}\n",
            "set()\n"
          ]
        }
      ]
    },
    {
      "cell_type": "markdown",
      "source": [
        "My set is now empty. What happens if I want to remove an element that is not in there ? "
      ],
      "metadata": {
        "id": "Qgph3_t20-lj"
      }
    },
    {
      "cell_type": "code",
      "source": [
        "my_set.remove(\"A\")"
      ],
      "metadata": {
        "id": "bM1vw0jNeAbb",
        "colab": {
          "base_uri": "https://localhost:8080/",
          "height": 165
        },
        "outputId": "bbfb0f25-284a-4efa-cf2c-11fbd690a45f"
      },
      "execution_count": 20,
      "outputs": [
        {
          "output_type": "error",
          "ename": "KeyError",
          "evalue": "ignored",
          "traceback": [
            "\u001b[0;31m---------------------------------------------------------------------------\u001b[0m",
            "\u001b[0;31mKeyError\u001b[0m                                  Traceback (most recent call last)",
            "\u001b[0;32m<ipython-input-20-c45179a04a14>\u001b[0m in \u001b[0;36m<module>\u001b[0;34m()\u001b[0m\n\u001b[0;32m----> 1\u001b[0;31m \u001b[0mmy_set\u001b[0m\u001b[0;34m.\u001b[0m\u001b[0mremove\u001b[0m\u001b[0;34m(\u001b[0m\u001b[0;34m\"A\"\u001b[0m\u001b[0;34m)\u001b[0m\u001b[0;34m\u001b[0m\u001b[0;34m\u001b[0m\u001b[0m\n\u001b[0m",
            "\u001b[0;31mKeyError\u001b[0m: 'A'"
          ]
        }
      ]
    },
    {
      "cell_type": "markdown",
      "source": [
        "To avoid this problem, you can use the discard() method:"
      ],
      "metadata": {
        "id": "IckHod581Ntj"
      }
    },
    {
      "cell_type": "code",
      "source": [
        "# my_set is still empty, yet no problem:\n",
        "my_set.discard(\"A\")"
      ],
      "metadata": {
        "id": "S0XVAtPEeAW0"
      },
      "execution_count": 21,
      "outputs": []
    },
    {
      "cell_type": "code",
      "source": [
        ""
      ],
      "metadata": {
        "id": "tab4BHFQxyV1"
      },
      "execution_count": 21,
      "outputs": []
    },
    {
      "cell_type": "markdown",
      "source": [
        "## Practical uses"
      ],
      "metadata": {
        "id": "QsFH7XpAxyRT"
      }
    },
    {
      "cell_type": "markdown",
      "source": [
        "Let's say an insurance company gives you two files:\n",
        "- one contains the information about their customers (ID, address, age, type_of_contract,...)\n",
        "- the other one contains the information about reimbursments (customer_id, how_much_he_paid, how_much_we_reimbused_that_customer, date_of_operation, etc...)\n",
        "\n",
        "Of course, if a reimbursment was sent to a specific customer ID, and this ID didn't exist in the customer database, it would raise a red flag.\n",
        "\n",
        "Well, sets, help you find quickly which customer_ids are in a file and not the other:"
      ],
      "metadata": {
        "id": "lTmZeCKXxyNK"
      }
    },
    {
      "cell_type": "code",
      "source": [
        "id_customers_database = ['365fe38b-4275-4daa-bc1d-450ffd65162b',\n",
        "                         'c61097a6-a936-4878-a080-21259010d16b',\n",
        "                         '00f0e885-e7a8-460a-b7b8-21f5af90f5e6',\n",
        "                         '0053d7e1-2afe-4fec-889b-4689fd39a463',\n",
        "                         '429b2e6f-f561-4280-98c8-7fa652e8dd7b',\n",
        "                         '27d4133c-1ca8-41f0-82a3-8c1b6e5724dc',\n",
        "                         '0fb023a8-a847-45e6-8bba-89a526e413de',\n",
        "                         '997bc88e-b056-4306-b498-815fbf1d3199',\n",
        "                         'd0f903c7-c3fb-4cc0-af13-211a1e815464',\n",
        "                         '2aa42d19-5b2b-482b-bb41-c419d227ce29']\n",
        "\n",
        "id_reimbursement_database = ['365fe38b-4275-4daa-bc1d-450ffd65162b',\n",
        "                             'c61097a6-a936-4878-a080-21259010d16b',\n",
        "                             '00f0e885-e7a8-460a-b7b8-21f5af90f5e6',\n",
        "                             '365fe38b-4275-4daa-bc1d-450ffd65162b',\n",
        "                             '429b2e6f-f561-4280-98c8-7fa652e8dd7b',\n",
        "                             '27d4133c-1ca8-41f0-82a3-8c1b6e5724dc',\n",
        "                             '365fe38b-4275-4daa-bc1d-450ffd65162b',\n",
        "                             '365fe38b-4275-4daa-bc1d-450ffd65162b',\n",
        "                             '4ca03197-da1d-45c1-a856-c5d0337b457a',\n",
        "                             'd585b7eb-a8e7-4e13-b554-1b51878c02b8']"
      ],
      "metadata": {
        "id": "hxF1hHJ-DB7m"
      },
      "execution_count": 22,
      "outputs": []
    },
    {
      "cell_type": "markdown",
      "source": [
        "First, let's put our databases into sets:"
      ],
      "metadata": {
        "id": "kSdd0H0tDsyf"
      }
    },
    {
      "cell_type": "code",
      "source": [
        "id_customers_database_set = set(id_customers_database)\n",
        "print(len(id_customers_database_set))\n",
        "id_reimbursement_database_set = set(id_reimbursement_database)\n",
        "print(len(id_reimbursement_database_set))"
      ],
      "metadata": {
        "colab": {
          "base_uri": "https://localhost:8080/"
        },
        "id": "WC9OfnS3HS9V",
        "outputId": "f1f48209-b932-4722-d7d0-5cca299ccb23"
      },
      "execution_count": 23,
      "outputs": [
        {
          "output_type": "stream",
          "name": "stdout",
          "text": [
            "10\n",
            "7\n"
          ]
        }
      ]
    },
    {
      "cell_type": "markdown",
      "source": [
        "We can see the second set has only 7 elements. That's because someone was reimbursed several times.\n",
        "\n",
        "Now, let's use set operations to find out if some people got reimbursed even though they don't appear in the customer base:"
      ],
      "metadata": {
        "id": "i1ri99tlHix0"
      }
    },
    {
      "cell_type": "code",
      "source": [
        "# id of people reimbursed, except if they also appear in id_customers_database: \n",
        "id_reimbursement_database_set - id_customers_database_set"
      ],
      "metadata": {
        "colab": {
          "base_uri": "https://localhost:8080/"
        },
        "id": "ZX-ERcQ2IZmY",
        "outputId": "564ce594-cb35-437b-b49a-8220b33dfb30"
      },
      "execution_count": 24,
      "outputs": [
        {
          "output_type": "execute_result",
          "data": {
            "text/plain": [
              "{'4ca03197-da1d-45c1-a856-c5d0337b457a',\n",
              " 'd585b7eb-a8e7-4e13-b554-1b51878c02b8'}"
            ]
          },
          "metadata": {},
          "execution_count": 24
        }
      ]
    },
    {
      "cell_type": "markdown",
      "source": [
        "(Note: This exemple might seem trivial, but it's from a real case I encoutered in my professional experience. I was given two csv files, with customers_id being one of the column of each files. And I actually used sets to quickly compare and find out whether something was wrong with the ids... turns out some people were indeed given reimbursements even though their ids didn't appear in the customer base ! )"
      ],
      "metadata": {
        "id": "lP9qQsAbI7sB"
      }
    },
    {
      "cell_type": "markdown",
      "source": [
        "# Exercices "
      ],
      "metadata": {
        "id": "iA5Ce-dNeAR2"
      }
    },
    {
      "cell_type": "markdown",
      "source": [
        "1) Create an empty set and a set containing numbers from 0 to 10"
      ],
      "metadata": {
        "id": "ZpDiGm1BMclw"
      }
    },
    {
      "cell_type": "code",
      "source": [
        "empty_set = set()\n",
        "from_one_to_ten = set(range(11))"
      ],
      "metadata": {
        "id": "NWjKcnRIMchN"
      },
      "execution_count": 25,
      "outputs": []
    },
    {
      "cell_type": "markdown",
      "source": [
        "2) Iterate over a set:"
      ],
      "metadata": {
        "id": "aO6uNmMCMccq"
      }
    },
    {
      "cell_type": "code",
      "source": [
        "for n in from_one_to_ten:\n",
        "    print(n)"
      ],
      "metadata": {
        "colab": {
          "base_uri": "https://localhost:8080/"
        },
        "id": "2pOcTPcqMcYd",
        "outputId": "9a9ad6b6-aed8-48d1-f4c4-54903628003c"
      },
      "execution_count": 26,
      "outputs": [
        {
          "output_type": "stream",
          "name": "stdout",
          "text": [
            "0\n",
            "1\n",
            "2\n",
            "3\n",
            "4\n",
            "5\n",
            "6\n",
            "7\n",
            "8\n",
            "9\n",
            "10\n"
          ]
        }
      ]
    },
    {
      "cell_type": "markdown",
      "source": [
        "3) Add \"a\", \"b\" and \"c\" to an empty set:"
      ],
      "metadata": {
        "id": "QNjL_f6LMcTt"
      }
    },
    {
      "cell_type": "code",
      "source": [
        "my_set = set()\n",
        "my_set.update([\"a\", \"b\", \"c\"])\n",
        "my_set"
      ],
      "metadata": {
        "colab": {
          "base_uri": "https://localhost:8080/"
        },
        "id": "OLhYLCIJMbp5",
        "outputId": "5bb956b3-b091-42cf-d600-be7fc16f248c"
      },
      "execution_count": 27,
      "outputs": [
        {
          "output_type": "execute_result",
          "data": {
            "text/plain": [
              "{'a', 'b', 'c'}"
            ]
          },
          "metadata": {},
          "execution_count": 27
        }
      ]
    },
    {
      "cell_type": "markdown",
      "source": [
        "4) Update a set with a set:"
      ],
      "metadata": {
        "id": "OqFgOv9rOh7e"
      }
    },
    {
      "cell_type": "code",
      "source": [
        "from_one_to_ten = set(range(11))\n",
        "my_set = set([\"a\", \"b\", \"c\"])\n",
        "from_one_to_ten.update(my_set)\n",
        "from_one_to_ten"
      ],
      "metadata": {
        "colab": {
          "base_uri": "https://localhost:8080/"
        },
        "id": "fcvIQxHGOjUJ",
        "outputId": "dbb23194-4a1f-44c6-bdc0-8d73194c1a04"
      },
      "execution_count": 29,
      "outputs": [
        {
          "output_type": "execute_result",
          "data": {
            "text/plain": [
              "{0, 1, 10, 2, 3, 4, 5, 6, 7, 8, 9, 'a', 'b', 'c'}"
            ]
          },
          "metadata": {},
          "execution_count": 29
        }
      ]
    },
    {
      "cell_type": "markdown",
      "source": [
        "5) Remove \"a\", \"b\" and \"c\" from the set:"
      ],
      "metadata": {
        "id": "Ikem2GdiOjXc"
      }
    },
    {
      "cell_type": "code",
      "source": [
        "my_set = set(list(range(11)) + [\"a\", \"b\", \"c\"])\n",
        "my_set.discard(\"a\")\n",
        "my_set.discard(\"b\")\n",
        "my_set.discard(\"c\")\n",
        "my_set\n",
        "\n",
        "# pro version: \n",
        "\n",
        "my_set = set(list(range(11)) + [\"a\", \"b\", \"c\"])\n",
        "my_set.difference_update({\"a\", \"b\", \"c\"})\n",
        "my_set\n"
      ],
      "metadata": {
        "colab": {
          "base_uri": "https://localhost:8080/"
        },
        "id": "l2ZBO9LEOjad",
        "outputId": "1e01222d-7a2d-41ad-fba3-eec634958654"
      },
      "execution_count": 39,
      "outputs": [
        {
          "output_type": "execute_result",
          "data": {
            "text/plain": [
              "{0, 1, 2, 3, 4, 5, 6, 7, 8, 9, 10}"
            ]
          },
          "metadata": {},
          "execution_count": 39
        }
      ]
    },
    {
      "cell_type": "code",
      "source": [
        ""
      ],
      "metadata": {
        "id": "209KtkTJOjdl"
      },
      "execution_count": null,
      "outputs": []
    },
    {
      "cell_type": "code",
      "source": [
        ""
      ],
      "metadata": {
        "id": "uVjEsL3VOjhg"
      },
      "execution_count": null,
      "outputs": []
    },
    {
      "cell_type": "markdown",
      "source": [
        "Try to insert a dict into the set() function. What happens ? "
      ],
      "metadata": {
        "id": "TMeoAoJYfoKy"
      }
    },
    {
      "cell_type": "code",
      "source": [
        ""
      ],
      "metadata": {
        "id": "7j_q1jlSfoGA"
      },
      "execution_count": null,
      "outputs": []
    },
    {
      "cell_type": "code",
      "source": [
        ""
      ],
      "metadata": {
        "id": "LojY2tyVd_tN"
      },
      "execution_count": null,
      "outputs": []
    },
    {
      "cell_type": "markdown",
      "source": [
        "# Resources\n"
      ],
      "metadata": {
        "id": "P8uAIfHrMCzB"
      }
    },
    {
      "cell_type": "markdown",
      "source": [
        "# Bonus: venn diagrams"
      ],
      "metadata": {
        "id": "Rl6Qd-6uMCiC"
      }
    },
    {
      "cell_type": "code",
      "metadata": {
        "id": "5K3RVmXf3Szd"
      },
      "source": [
        "import matplotlib.pyplot as plt\n",
        "from matplotlib_venn import venn3"
      ],
      "execution_count": null,
      "outputs": []
    },
    {
      "cell_type": "code",
      "metadata": {
        "id": "dZ_afu623Zop"
      },
      "source": [
        "plt.figure(figsize=(8,8))\n",
        "v = venn3(subsets=(10,10,10,10,10,10,10),\n",
        "      set_labels=(\"Statistics\", \"Programming\", \"Domain Knowledge\"))\n",
        "\n",
        "v.get_label_by_id('100').set_text('Statistics')\n",
        "v.get_label_by_id('010').set_text('Hacking skills')\n",
        "v.get_label_by_id('001').set_text('Domain Knowledge')\n",
        "v.get_label_by_id('111').set_text('Data Science')\n",
        "v.get_label_by_id('110').set_text('Machine Learning')\n",
        "v.get_label_by_id('011').set_text('Danger Zone')\n",
        "v.get_label_by_id('101').set_text('Traditionnal research')\n",
        "plt.show()"
      ],
      "execution_count": null,
      "outputs": []
    },
    {
      "cell_type": "code",
      "metadata": {
        "id": "RB8KhNc33t_n"
      },
      "source": [
        "?venn3"
      ],
      "execution_count": null,
      "outputs": []
    },
    {
      "cell_type": "code",
      "metadata": {
        "id": "Q4DNESWi31F0"
      },
      "source": [
        ""
      ],
      "execution_count": null,
      "outputs": []
    }
  ]
}